{
 "cells": [
  {
   "cell_type": "markdown",
   "id": "6ca3029b",
   "metadata": {},
   "source": [
    "#### 收集到的数据读取方法"
   ]
  },
  {
   "cell_type": "code",
   "execution_count": 72,
   "id": "6fe7d42c",
   "metadata": {},
   "outputs": [],
   "source": [
    "import numpy as np\n",
    "import networkx as nx\n",
    "import matplotlib.pyplot as plt\n",
    "from scipy.io import mmread"
   ]
  },
  {
   "cell_type": "markdown",
   "id": "522c2b88",
   "metadata": {},
   "source": [
    "#### .mtx 格式"
   ]
  },
  {
   "cell_type": "code",
   "execution_count": 73,
   "id": "c8e2e3b7",
   "metadata": {},
   "outputs": [],
   "source": [
    "# 读出来的为 coo 稀疏矩阵\n",
    "matrix = mmread(r'datas/celegansneural.mtx')\n",
    "\n",
    "mat = matrix.toarray()\n",
    "\n",
    "# 从邻接矩阵创建图\n",
    "# G = nx.Graph(mat)  # 无向图\n",
    "G = nx.DiGraph(mat)  # 有向图"
   ]
  },
  {
   "cell_type": "markdown",
   "id": "333a3aac",
   "metadata": {},
   "source": [
    "#### 计算网络属性"
   ]
  },
  {
   "cell_type": "code",
   "execution_count": 74,
   "id": "2f7403bd",
   "metadata": {},
   "outputs": [
    {
     "name": "stdout",
     "output_type": "stream",
     "text": [
      "=== 网络基本属性 ===\n",
      "节点数: 297\n",
      "边数: 2345\n",
      "密度: 0.0267\n",
      "平均度: 15.79\n",
      "最大度 134\n",
      "平均聚类系数: 0.1736\n"
     ]
    }
   ],
   "source": [
    "# 计算网络基本属性\n",
    "num_nodes = G.number_of_nodes()\n",
    "num_edges = G.number_of_edges()\n",
    "density = nx.density(G)\n",
    "\n",
    "# 计算平均度\n",
    "degrees = dict(G.degree())\n",
    "max_degree = max(degrees.values())\n",
    "avg_degree = sum(degrees.values()) / num_nodes\n",
    "\n",
    "clustering = nx.average_clustering(G)\n",
    "\n",
    "\n",
    "print(\"=== 网络基本属性 ===\")\n",
    "print(f\"节点数: {num_nodes}\")\n",
    "print(f\"边数: {num_edges}\")\n",
    "print(f\"密度: {density:.4f}\")\n",
    "print(f\"平均度: {avg_degree:.2f}\")\n",
    "print(f\"最大度 {max_degree}\")\n",
    "print(f\"平均聚类系数: {clustering:.4f}\")"
   ]
  },
  {
   "cell_type": "code",
   "execution_count": 75,
   "id": "7f0387a2",
   "metadata": {},
   "outputs": [],
   "source": [
    "if not G.is_directed():\n",
    "    diameter = nx.diameter(G)\n",
    "    print(f\"网络直径: {diameter}\")"
   ]
  },
  {
   "cell_type": "code",
   "execution_count": 76,
   "id": "f3b436fb",
   "metadata": {},
   "outputs": [],
   "source": [
    "adj_matrix = nx.adjacency_matrix(G).tocoo()"
   ]
  },
  {
   "cell_type": "code",
   "execution_count": 77,
   "id": "88daff85",
   "metadata": {},
   "outputs": [
    {
     "data": {
      "text/plain": [
       "True"
      ]
     },
     "execution_count": 77,
     "metadata": {},
     "output_type": "execute_result"
    }
   ],
   "source": [
    "G.is_directed()"
   ]
  },
  {
   "cell_type": "code",
   "execution_count": 78,
   "id": "750dc405",
   "metadata": {},
   "outputs": [
    {
     "data": {
      "text/plain": [
       "array([1, 2, 1, ..., 1, 1, 1])"
      ]
     },
     "execution_count": 78,
     "metadata": {},
     "output_type": "execute_result"
    }
   ],
   "source": [
    "adj_matrix.toarray()\n",
    "adj_matrix.row\n",
    "adj_matrix.col\n",
    "adj_matrix.data"
   ]
  },
  {
   "cell_type": "code",
   "execution_count": null,
   "id": "4de0dcac",
   "metadata": {},
   "outputs": [],
   "source": []
  }
 ],
 "metadata": {
  "kernelspec": {
   "display_name": "Python 3",
   "language": "python",
   "name": "python3"
  },
  "language_info": {
   "codemirror_mode": {
    "name": "ipython",
    "version": 3
   },
   "file_extension": ".py",
   "mimetype": "text/x-python",
   "name": "python",
   "nbconvert_exporter": "python",
   "pygments_lexer": "ipython3",
   "version": "3.11.9"
  }
 },
 "nbformat": 4,
 "nbformat_minor": 5
}
