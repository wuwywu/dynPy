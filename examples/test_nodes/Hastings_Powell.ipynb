{
 "cells": [
  {
   "cell_type": "markdown",
   "id": "81b81345",
   "metadata": {},
   "source": [
    "#### 测试 Hastings_Powell 模型是否为混沌态"
   ]
  },
  {
   "cell_type": "code",
   "execution_count": 19,
   "id": "320be07a",
   "metadata": {},
   "outputs": [],
   "source": [
    "import numpy as np\n",
    "import matplotlib.pyplot as plt\n",
    "from numba import njit, prange"
   ]
  },
  {
   "cell_type": "code",
   "execution_count": 20,
   "id": "58099419",
   "metadata": {},
   "outputs": [],
   "source": [
    "@njit\n",
    "def HP(x, t, b1, *args):\n",
    "    res = np.zeros_like(x)\n",
    "    a1 = 5.\n",
    "    # b1 = 3.\n",
    "    a2 = 0.1\n",
    "    b2 = 2.\n",
    "    d1 = 0.4\n",
    "    d2 = 0.01\n",
    "\n",
    "    f_1 = a1 * x[0] / (1 + b1 * x[0])\n",
    "    f_2 = a2 * x[1] / (1 + b2 * x[1])\n",
    "\n",
    "    res[0] = x[0] * (1 - x[0]) - f_1 * x[1]\n",
    "    res[1] = f_1 * x[1] - f_2 * x[2] - d1 * x[1]\n",
    "    res[2] = f_2 * x[2] - d2 * x[2]\n",
    "\n",
    "    return res\n",
    "\n",
    "@njit\n",
    "def jac(x, t, b1, *args):\n",
    "    res = np.zeros((x.shape[0], x.shape[0]))\n",
    "    a1 = 5.\n",
    "    # b1 = 3.\n",
    "    a2 = 0.1\n",
    "    b2 = 2.\n",
    "    d1 = 0.4\n",
    "    d2 = 0.01\n",
    "\n",
    "    res[0, 0] = 1 - 2 * x[0] - (a1 * x[1]) / (1 + b1 * x[0])**2\n",
    "    res[0, 1] = a1 * x[0] / (1 + b1 * x[0])\n",
    "\n",
    "    res[1, 0] = (a1 * x[1]) / (1 + b1 * x[0])**2\n",
    "    res[1, 1] = a1 * x[0] / (1 + b1 * x[0]) - d1 - (a2 * x[2]) / (1 + b2 * x[1])**2\n",
    "    res[1, 2] = a2 * x[1] / (1 + b2 * x[1])\n",
    "\n",
    "    res[2, 1] = (a2 * x[2]) / (1 + b2 * x[1])**2\n",
    "    res[2, 2] = a2 * x[1] / (1 + b2 * x[1]) - d2\n",
    "\n",
    "    return res"
   ]
  },
  {
   "cell_type": "code",
   "execution_count": 21,
   "id": "2ffffa62",
   "metadata": {},
   "outputs": [],
   "source": [
    "@njit\n",
    "def rk4_step(x, t, dt, f, *args):\n",
    "    k1 = f(x, t, *args)\n",
    "    k2 = f(x + (dt / 2.) * k1, t + (dt / 2.), *args)\n",
    "    k3 = f(x + (dt / 2.) * k2, t + (dt / 2.), *args)\n",
    "    k4 = f(x + dt * k3, t + dt, *args)\n",
    "    return x + (dt / 6.) * (k1 + 2 * k2 + 2 * k3 + k4)\n",
    "\n",
    "@njit\n",
    "def mLCE_jit(x0, f, jac, n_forward, n_compute, dt, *args):\n",
    "    \"\"\"\n",
    "    Parameters:\n",
    "        x0 (numpy.ndarray)：初始条件。\n",
    "        f（function）: ẋ = f(x, t) 或 x_(n 1) = f(x_n) 的函数 f。\n",
    "        jac（function）: f 相对于 x 的雅可比行列式。\n",
    "        n_forward (int): Number of steps before starting the mLCE computation.\n",
    "        n_compute (int): Number of steps to compute the mLCE, can be adjusted using keep_evolution.\n",
    "        dt（float）: 两个时间步之间的时间间隔。\n",
    "        *args :  f 和 jac 需要修改的量\n",
    "    \"\"\"\n",
    "    t = 0\n",
    "    x = x0\n",
    "    dim = len(x0)\n",
    "    # 初始化\n",
    "    for _ in range(n_forward):\n",
    "        x = rk4_step(x, t, dt, f, *args)\n",
    "        t += dt\n",
    "\n",
    "    # Compute the mLCE\n",
    "    mLCE = 0.\n",
    "    W = np.random.rand(dim)\n",
    "    W = W / np.linalg.norm(W)\n",
    "\n",
    "    for _ in range(n_compute):\n",
    "        # w = system.next_LTM(w)\n",
    "        jacobian = jac(x, t, *args)\n",
    "        k1 = jacobian @ W\n",
    "        k2 = jacobian @ (W + (dt / 2.) * k1)\n",
    "        k3 = jacobian @ (W + (dt / 2.) * k2)\n",
    "        k4 = jacobian @ (W + dt * k3)\n",
    "        W = W + (dt / 6.) * (k1 + 2 * k2 + 2 * k3 + k4)\n",
    "\n",
    "        # system.forward(1, False)\n",
    "        x = rk4_step(x, t, dt, f, *args)\n",
    "        t += dt\n",
    "\n",
    "        mLCE += np.log(np.linalg.norm(W))\n",
    "        W = W / np.linalg.norm(W)\n",
    "\n",
    "    mLCE = mLCE / (n_compute * dt)\n",
    "\n",
    "    return mLCE\n",
    "\n",
    "@njit\n",
    "def LCE_jit(x0, f, jac, n_forward, n_compute, dt, *args):\n",
    "    \"\"\"\n",
    "    Parameters:\n",
    "        x0 (numpy.ndarray)：初始条件。\n",
    "        f（function）: ẋ = f(x, t) 或 x_(n 1) = f(x_n) 的函数 f。\n",
    "        jac（function）: f 相对于 x 的雅可比行列式。\n",
    "        n_forward (int): Number of steps before starting the mLCE computation.\n",
    "        n_compute (int): Number of steps to compute the mLCE, can be adjusted using keep_evolution.\n",
    "        dt（float）: 两个时间步之间的时间间隔。\n",
    "        *args :  f 和 jac 需要修改的量\n",
    "    \"\"\"\n",
    "    t = 0\n",
    "    # x = x0\n",
    "    x = np.ascontiguousarray(x0)\n",
    "    dim = len(x0)\n",
    "    # 初始化\n",
    "    for _ in range(n_forward):\n",
    "        x = rk4_step(x, t, dt, f, *args)\n",
    "        t += dt\n",
    "\n",
    "    # Compute the mLCE\n",
    "    W = np.eye(dim)\n",
    "    LCE = np.zeros(int(dim))\n",
    "\n",
    "    for _ in range(n_compute):\n",
    "        # w = system.next_LTM(w)\n",
    "        jacobian = jac(x, t, *args)\n",
    "        jacobian = np.ascontiguousarray(jacobian)\n",
    "        W = np.ascontiguousarray(W)\n",
    "        k1 = jacobian @ W\n",
    "        k2 = jacobian @ (W + (dt / 2.) * k1)\n",
    "        k3 = jacobian @ (W + (dt / 2.) * k2)\n",
    "        k4 = jacobian @ (W + dt * k3)\n",
    "        W = W + (dt / 6.) * (k1 + 2 * k2 + 2 * k3 + k4)\n",
    "\n",
    "        # system.forward(1, False)\n",
    "        x = rk4_step(x, t, dt, f, *args)\n",
    "        t += dt\n",
    "\n",
    "        W, R = np.linalg.qr(W)\n",
    "        LCE += np.log(np.abs(np.diag(R)))\n",
    "\n",
    "    LCE = LCE / (n_compute * dt)\n",
    "\n",
    "    return LCE"
   ]
  },
  {
   "cell_type": "code",
   "execution_count": 22,
   "id": "ad058c51",
   "metadata": {},
   "outputs": [],
   "source": [
    "x0 = np.asarray([1., 1., 1.])\n",
    "dt = 1e-2\n",
    "\n",
    "T_init = int(1e6)\n",
    "T_cal = int(1e6)"
   ]
  },
  {
   "cell_type": "code",
   "execution_count": 23,
   "id": "010ecd58",
   "metadata": {},
   "outputs": [],
   "source": [
    "# mLCE = mLCE_jit(x0, HP, jac, T_init, T_cal, dt)\n",
    "# LCE = LCE_jit(x0, HP, jac, T_init, T_cal, dt)"
   ]
  },
  {
   "cell_type": "code",
   "execution_count": 24,
   "id": "d576795b",
   "metadata": {},
   "outputs": [],
   "source": [
    "b1_list = np.linspace(2., 6.2, 100)"
   ]
  },
  {
   "cell_type": "code",
   "execution_count": 25,
   "id": "71b597e9",
   "metadata": {},
   "outputs": [],
   "source": [
    "@njit(parallel=True)\n",
    "def parallel_LCE(b1_list, x0, f, jac, T_init, T_cal, dt, *args):\n",
    "    n = len(b1_list)\n",
    "    LCE_values = np.zeros((n, 3))\n",
    "    for i in prange(n):\n",
    "        b1 = b1_list[i]\n",
    "        LCE_values[i] = LCE_jit(x0, f, jac, T_init, T_cal, dt, b1, *args)\n",
    "\n",
    "    # print(mLCE_values)\n",
    "    return LCE_values"
   ]
  },
  {
   "cell_type": "code",
   "execution_count": 26,
   "id": "6e528667",
   "metadata": {},
   "outputs": [],
   "source": [
    "mLCE_values = parallel_LCE(b1_list, x0, HP, jac, T_init, T_cal, dt)"
   ]
  },
  {
   "cell_type": "code",
   "execution_count": 30,
   "id": "35797ad0",
   "metadata": {},
   "outputs": [
    {
     "data": {
      "image/png": "[encoded data removed]",
      "text/plain": [
       "<Figure size 600x400 with 1 Axes>"
      ]
     },
     "metadata": {},
     "output_type": "display_data"
    }
   ],
   "source": [
    "plt.figure(figsize=(6, 4))\n",
    "plt.plot(b1_list, mLCE_values)\n",
    "\n",
    "plt.axhline(0, color='black', linestyle='--', linewidth=1.5)\n",
    "\n",
    "plt.ylabel(\"LCE\")\n",
    "plt.xlabel(\"$b_1$\")\n",
    "plt.show()"
   ]
  }
 ],
 "metadata": {
  "kernelspec": {
   "display_name": "Python 3",
   "language": "python",
   "name": "python3"
  },
  "language_info": {
   "codemirror_mode": {
    "name": "ipython",
    "version": 3
   },
   "file_extension": ".py",
   "mimetype": "text/x-python",
   "name": "python",
   "nbconvert_exporter": "python",
   "pygments_lexer": "ipython3",
   "version": "3.12.7"
  }
 },
 "nbformat": 4,
 "nbformat_minor": 5
}
