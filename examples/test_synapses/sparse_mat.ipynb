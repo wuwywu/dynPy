{
 "cells": [
  {
   "cell_type": "code",
   "execution_count": 1,
   "metadata": {},
   "outputs": [],
   "source": [
    "import matplotlib.pyplot as plt\n",
    "import numpy as np\n",
    "from import_fun import matrix_to_sparse, sparse_to_matrix\n",
    "from numba import njit, prange"
   ]
  },
  {
   "cell_type": "code",
   "execution_count": 2,
   "metadata": {},
   "outputs": [],
   "source": [
    "N_pre, N_post = 3, 4\n",
    "conn1 = np.array([[0, 1, 0, 0],\n",
    "                  [1, 0, 1, 0],\n",
    "                  [0, 1, 0, 1],\n",
    "                  [0, 1, 0, 0]])\n",
    "\n",
    "conn = np.array([[0, 1, 0],\n",
    "                  [1, 0, 1],\n",
    "                  [0, 1, 0],\n",
    "                  [0, 1, 0]])\n",
    "\n",
    "w = np.random.rand(4, 3)"
   ]
  },
  {
   "cell_type": "code",
   "execution_count": 3,
   "metadata": {},
   "outputs": [
    {
     "data": {
      "text/plain": [
       "array([[0.42380067, 0.05832541, 0.48829076],\n",
       "       [0.85036368, 0.91041286, 0.14187141],\n",
       "       [0.06011118, 0.85094866, 0.98778653],\n",
       "       [0.60977771, 0.1973929 , 0.94843322]])"
      ]
     },
     "execution_count": 3,
     "metadata": {},
     "output_type": "execute_result"
    }
   ],
   "source": [
    "conn\n",
    "w"
   ]
  },
  {
   "cell_type": "code",
   "execution_count": 4,
   "metadata": {},
   "outputs": [],
   "source": [
    "pre_ids, post_ids, weights = matrix_to_sparse(conn, w)"
   ]
  },
  {
   "cell_type": "code",
   "execution_count": 5,
   "metadata": {},
   "outputs": [
    {
     "data": {
      "text/plain": [
       "(array([0.01565417, 0.44067736, 0.64623452]),\n",
       " array([0.40279449, 0.56976639, 0.95293663, 0.96609922]))"
      ]
     },
     "execution_count": 5,
     "metadata": {},
     "output_type": "execute_result"
    }
   ],
   "source": [
    "mem1 = np.random.rand(3)\n",
    "mem2 = np.random.rand(4)\n",
    "mem1, mem2"
   ]
  },
  {
   "cell_type": "code",
   "execution_count": 6,
   "metadata": {},
   "outputs": [
    {
     "name": "stdout",
     "output_type": "stream",
     "text": [
      "[1 0 2 1 1] \n",
      " [0 1 1 2 3] \n",
      " [ 5.83254079e-002  9.10412860e-001  6.01111800e-002  6.09777713e-001\n",
      " -3.81257193e-270]\n"
     ]
    }
   ],
   "source": [
    "print(pre_ids, \"\\n\", post_ids, \"\\n\", weights)"
   ]
  },
  {
   "cell_type": "code",
   "execution_count": 7,
   "metadata": {},
   "outputs": [
    {
     "data": {
      "text/plain": [
       "array([ 2.20953375e-003, -5.04470899e-001,  4.59658923e-003,\n",
       "       -3.12364284e-001,  2.00320865e-270])"
      ]
     },
     "execution_count": 7,
     "metadata": {},
     "output_type": "execute_result"
    }
   ],
   "source": [
    "weights*(mem1[pre_ids] - mem2[post_ids])"
   ]
  },
  {
   "cell_type": "code",
   "execution_count": 8,
   "metadata": {},
   "outputs": [
    {
     "data": {
      "text/plain": [
       "(array([[0, 1, 0],\n",
       "        [1, 0, 1],\n",
       "        [0, 1, 0],\n",
       "        [0, 1, 0]], dtype=int32),\n",
       " array([[ 0.00000000e+000,  5.83254079e-002,  0.00000000e+000],\n",
       "        [ 9.10412860e-001,  0.00000000e+000,  6.01111800e-002],\n",
       "        [ 0.00000000e+000,  6.09777713e-001,  0.00000000e+000],\n",
       "        [ 0.00000000e+000, -3.81257193e-270,  0.00000000e+000]]))"
      ]
     },
     "execution_count": 8,
     "metadata": {},
     "output_type": "execute_result"
    }
   ],
   "source": [
    "conn, w = sparse_to_matrix(N_pre, N_post, pre_ids, post_ids, weights)\n",
    "\n",
    "conn, w"
   ]
  }
 ],
 "metadata": {
  "kernelspec": {
   "display_name": "Python 3",
   "language": "python",
   "name": "python3"
  },
  "language_info": {
   "codemirror_mode": {
    "name": "ipython",
    "version": 3
   },
   "file_extension": ".py",
   "mimetype": "text/x-python",
   "name": "python",
   "nbconvert_exporter": "python",
   "pygments_lexer": "ipython3",
   "version": "3.11.9"
  }
 },
 "nbformat": 4,
 "nbformat_minor": 2
}
