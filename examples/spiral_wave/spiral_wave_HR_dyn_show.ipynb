{
 "cells": [
  {
   "cell_type": "markdown",
   "id": "cc098165",
   "metadata": {},
   "source": [
    "### 使用 HR 完成螺旋波，耦合方式使用差分法"
   ]
  },
  {
   "cell_type": "code",
   "execution_count": 10,
   "id": "2e0ce3f0",
   "metadata": {},
   "outputs": [],
   "source": [
    "import numpy as np\n",
    "import matplotlib.pyplot as plt\n",
    "import matplotlib as mpl\n",
    "from numba import njit, prange\n",
    "from import_fun import HR, Diffusion2D, show_spiral_wave"
   ]
  },
  {
   "cell_type": "code",
   "execution_count": 11,
   "id": "75578d8d",
   "metadata": {},
   "outputs": [
    {
     "data": {
      "text/plain": [
       "<contextlib.ExitStack at 0x1a198ee67d0>"
      ]
     },
     "execution_count": 11,
     "metadata": {},
     "output_type": "execute_result"
    }
   ],
   "source": [
    "# 开启交互式画图\n",
    "mpl.use('TkAgg') # TkAgg Qt5Agg\n",
    "plt.ion()  # 开启交互模式"
   ]
  },
  {
   "cell_type": "code",
   "execution_count": 12,
   "id": "2f323335",
   "metadata": {},
   "outputs": [],
   "source": [
    "Nx = 200\n",
    "Ny = 200\n",
    "method = \"euler\"\n",
    "dt = 0.01"
   ]
  },
  {
   "cell_type": "code",
   "execution_count": 13,
   "id": "f5e9a901",
   "metadata": {},
   "outputs": [],
   "source": [
    "# 生成节点，初始值设定\n",
    "nodes = HR(N=Nx*Ny, method=method, dt=dt)\n",
    "nodes.vars_nodes[0, :] = -1.31742\n",
    "nodes.vars_nodes[1, :] = -7.67799\n",
    "nodes.vars_nodes[2, :] = 1.12032\n",
    "\n",
    "# 生成一个方阵视图，这个视图与原始数组共享内存\n",
    "x_view = nodes.vars_nodes[0, :].reshape(Nx, Ny)\n",
    "y_view = nodes.vars_nodes[1, :].reshape(Nx, Ny)\n",
    "z_view = nodes.vars_nodes[2, :].reshape(Nx, Ny)\n",
    "\n",
    "# 设定楔形初始值\n",
    "x_view[91:93, 0:100] = 2.\n",
    "y_view[91:93, 0:100] = 2.\n",
    "z_view[91:93, 0:100] = -1.\n",
    "\n",
    "x_view[94:96, 0:100] = 0.\n",
    "y_view[94:96, 0:100] = 0.\n",
    "z_view[94:96, 0:100] = 0.\n",
    "\n",
    "x_view[97:99, 0:100] = -1.\n",
    "y_view[97:99, 0:100] = -1.\n",
    "z_view[97:99, 0:100] = 2.\n",
    "\n",
    "nodes.params_nodes[\"Iex\"] = 1.315\n",
    "nodes.params_nodes[\"s\"] = 3.9\n",
    "nodes.spiking = False    # 关掉峰值探测器"
   ]
  },
  {
   "cell_type": "code",
   "execution_count": 14,
   "id": "9bae93c5",
   "metadata": {},
   "outputs": [],
   "source": [
    "# 设定动态显示器\n",
    "spiral_wave = show_spiral_wave(nodes.vars_nodes[0], Nx, Ny, save_gif=False)"
   ]
  },
  {
   "cell_type": "code",
   "execution_count": 15,
   "id": "94b22100",
   "metadata": {},
   "outputs": [],
   "source": [
    "# 设定扩散耦合\n",
    "syn = Diffusion2D(D=2., boundary=\"No_flow\", adjacency=4)"
   ]
  },
  {
   "cell_type": "code",
   "execution_count": 16,
   "id": "8fa03b84",
   "metadata": {},
   "outputs": [],
   "source": [
    "for i in range(1000_00):\n",
    "    spiral_wave(i, nodes.t, show_interval=1000)\n",
    "    Isyn = syn(x_view)\n",
    "    nodes(Isyn)"
   ]
  },
  {
   "cell_type": "code",
   "execution_count": 17,
   "id": "20fce785",
   "metadata": {},
   "outputs": [],
   "source": [
    "# spiral_wave.save_image()\n",
    "# spiral_wave.show_final()"
   ]
  },
  {
   "cell_type": "code",
   "execution_count": 18,
   "id": "f16d0ff2",
   "metadata": {},
   "outputs": [],
   "source": [
    "# plt.imshow(x_view)\n",
    "# plt.colorbar()\n",
    "# plt.show()"
   ]
  }
 ],
 "metadata": {
  "kernelspec": {
   "display_name": "Python 3",
   "language": "python",
   "name": "python3"
  },
  "language_info": {
   "codemirror_mode": {
    "name": "ipython",
    "version": 3
   },
   "file_extension": ".py",
   "mimetype": "text/x-python",
   "name": "python",
   "nbconvert_exporter": "python",
   "pygments_lexer": "ipython3",
   "version": "3.11.9"
  }
 },
 "nbformat": 4,
 "nbformat_minor": 5
}
