{
 "cells": [
  {
   "cell_type": "markdown",
   "id": "04c90f42",
   "metadata": {},
   "source": [
    "#### 节点为 HH, 使用切割法实现螺旋波"
   ]
  },
  {
   "cell_type": "code",
   "execution_count": 195,
   "id": "5a642cff",
   "metadata": {},
   "outputs": [],
   "source": [
    "import numpy as np\n",
    "import matplotlib.pyplot as plt\n",
    "import matplotlib as mpl\n",
    "from numba import njit, prange\n",
    "from import_fun import HH, Diffusion2D, show_spiral_wave, FlowVelocity"
   ]
  },
  {
   "cell_type": "code",
   "execution_count": 196,
   "id": "12095e22",
   "metadata": {},
   "outputs": [
    {
     "data": {
      "text/plain": [
       "<contextlib.ExitStack at 0x1b4b816a010>"
      ]
     },
     "execution_count": 196,
     "metadata": {},
     "output_type": "execute_result"
    }
   ],
   "source": [
    "# 开启交互式画图\n",
    "mpl.use('TkAgg') # TkAgg Qt5Agg\n",
    "plt.ion()  # 开启交互模式"
   ]
  },
  {
   "cell_type": "code",
   "execution_count": 197,
   "id": "205342da",
   "metadata": {},
   "outputs": [],
   "source": [
    "Nx = 100\n",
    "Ny = 100\n",
    "method = \"euler\"\n",
    "dt = 0.01"
   ]
  },
  {
   "cell_type": "code",
   "execution_count": 198,
   "id": "0374766b",
   "metadata": {},
   "outputs": [],
   "source": [
    "# 生成节点，初始值设定\n",
    "nodes = HH(N=Nx*Ny, method=method, dt=dt)\n",
    "nodes.vars_nodes[0] = 0.\n",
    "nodes.vars_nodes[1] = 0.\n",
    "nodes.vars_nodes[2] = 0.\n",
    "nodes.vars_nodes[3] = 0.\n",
    "nodes.params_nodes[\"Iex\"] = 0.\n",
    "nodes.spiking = False    # 关掉峰值探测器\n",
    "\n",
    "# 生成一个方阵视图，这个视图与原始数组共享内存\n",
    "V_view = nodes.vars_nodes[0].reshape(Nx, Ny)\n",
    "m_view = nodes.vars_nodes[1].reshape(Nx, Ny)\n",
    "h_view = nodes.vars_nodes[2].reshape(Nx, Ny)\n",
    "n_view = nodes.vars_nodes[3].reshape(Nx, Ny)\n",
    "\n",
    "I_input = np.zeros(Nx*Ny)\n",
    "I_input_view = I_input.reshape(Nx, Ny)\n"
   ]
  },
  {
   "cell_type": "code",
   "execution_count": 199,
   "id": "9feb027d",
   "metadata": {},
   "outputs": [],
   "source": [
    "# 设定动态显示器\n",
    "spiral_wave = show_spiral_wave(nodes.vars_nodes[0], Nx, Ny, save_gif=False)"
   ]
  },
  {
   "cell_type": "code",
   "execution_count": 200,
   "id": "f7d6af9c",
   "metadata": {},
   "outputs": [],
   "source": [
    "# 设定扩散耦合\n",
    "## \"No_flow\", \"periodic\"\n",
    "syn = Diffusion2D(D=0.6, boundary=\"No_flow\", adjacency=8)"
   ]
  },
  {
   "cell_type": "code",
   "execution_count": 201,
   "id": "a003dfdc",
   "metadata": {},
   "outputs": [],
   "source": [
    "# mem_list = []\n",
    "for i in range(100_00):\n",
    "    nodes()\n",
    "\n",
    "nodes.t = 0.\n",
    "# I_input_view[:, 0] = 10\n",
    "\n",
    "mod = int(Nx/2)\n",
    "for i in range(60_00):\n",
    "    if i<10_00:\n",
    "        I_input_view[:, 0] = 10\n",
    "    else:\n",
    "        I_input_view[:, 0] = 0.\n",
    "\n",
    "    if i == 22_00:\n",
    "        V_view[mod:, :] = -65.00095684\n",
    "        m_view[mod:, :] = 0.05292585\n",
    "        h_view[mod:, :] = 0.59450462\n",
    "        n_view[mod:, :] = 0.31761895\n",
    "\n",
    "    spiral_wave(i, nodes.t, show_interval=1_00)\n",
    "    Isyn = syn(V_view)\n",
    "    nodes(Isyn+I_input)\n",
    "\n",
    "fvelocity = FlowVelocity(V_view.copy(), alpha=20.)\n",
    "\n",
    "for i in range(60_00):\n",
    "    if i%6_00 == 5_00:\n",
    "        fvelocity.V_dalay = V_view.copy()\n",
    "    if i%6_00 == 1:\n",
    "        dv_dx, dv_dy = fvelocity(V_view)\n",
    "    Isyn = syn(V_view)\n",
    "    nodes(Isyn)"
   ]
  },
  {
   "cell_type": "code",
   "execution_count": 202,
   "id": "8382ddef",
   "metadata": {},
   "outputs": [],
   "source": [
    "# dv_dx, dv_dy = fvelocity(V_view)\n",
    "dv_dx_reduced, dv_dy_reduced = fvelocity.reduce_density(dv_dx, dv_dy, v_x_size=40, v_y_size=40)"
   ]
  },
  {
   "cell_type": "code",
   "execution_count": 203,
   "id": "50b64d3a",
   "metadata": {},
   "outputs": [],
   "source": [
    "dv_dx1, dv_dy1 = dv_dx, dv_dy\n",
    "# dv_dx1, dv_dy1 = dv_dx_reduced, dv_dy_reduced"
   ]
  },
  {
   "cell_type": "code",
   "execution_count": 204,
   "id": "57afcc28",
   "metadata": {},
   "outputs": [],
   "source": [
    "Ny, Nx = dv_dx1.shape  # 注意形状是 (行, 列) = (y, x)\n",
    "x = np.arange(Nx)\n",
    "y = np.arange(Ny)\n",
    "X, Y = np.meshgrid(x, y)\n",
    "step = 1\n",
    "fig, (ax1, ax2) = plt.subplots(1, 2, figsize=(12, 6))\n",
    "ax1.quiver(X[::step, ::step], Y[::step, ::step],\n",
    "               -dv_dy1[::step, ::step], -dv_dx1[::step, ::step], color=\"b\", scale=50) # , scale=500\n",
    "ax2.imshow(V_view, cmap='jet', origin=\"lower\", aspect=\"auto\")\n",
    "x_min, x_max = 35, 65\n",
    "y_min, y_max = 35, 65\n",
    "ax1.set_xlim(x_min, x_max)\n",
    "ax1.set_ylim(y_min, y_max)\n",
    "ax2.set_xlim(x_min, x_max)\n",
    "ax2.set_ylim(y_min, y_max)\n",
    "plt.show()"
   ]
  },
  {
   "cell_type": "code",
   "execution_count": 205,
   "id": "fd28eb25",
   "metadata": {},
   "outputs": [],
   "source": [
    "# spiral_wave.save_image(filename=\"animation.gif\", duration=50)"
   ]
  }
 ],
 "metadata": {
  "kernelspec": {
   "display_name": "Python 3",
   "language": "python",
   "name": "python3"
  },
  "language_info": {
   "codemirror_mode": {
    "name": "ipython",
    "version": 3
   },
   "file_extension": ".py",
   "mimetype": "text/x-python",
   "name": "python",
   "nbconvert_exporter": "python",
   "pygments_lexer": "ipython3",
   "version": "3.11.9"
  }
 },
 "nbformat": 4,
 "nbformat_minor": 5
}
