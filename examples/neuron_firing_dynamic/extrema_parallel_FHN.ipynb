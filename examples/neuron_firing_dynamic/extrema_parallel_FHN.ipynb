{
 "cells": [
  {
   "cell_type": "markdown",
   "metadata": {},
   "source": [
    "### 极值计算并行版"
   ]
  },
  {
   "cell_type": "code",
   "execution_count": 11,
   "metadata": {},
   "outputs": [],
   "source": [
    "import matplotlib.pyplot as plt\n",
    "import numpy as np\n",
    "from numba import njit, prange\n",
    "# 自定义函数\n",
    "from import_fun import HH_model, Iz_model, FHN_model, Euler, RK4, spikes_eval\n",
    "from import_fun import record_spike_times, calculate_isi, calculate_cv, find_extrema"
   ]
  },
  {
   "cell_type": "code",
   "execution_count": 12,
   "metadata": {},
   "outputs": [],
   "source": [
    "@njit\n",
    "def extrema_fhn(N, method, dt, A):\n",
    "    t = 0\n",
    "\n",
    "    # nodes = HH_model\n",
    "    # nodes = Iz_model\n",
    "\n",
    "    # 创建节点\n",
    "    nodes = FHN_model\n",
    "    # 模型参数\n",
    "    params_nodes = {\n",
    "        \"a\": 0.1,\n",
    "        \"b\": 0.8,\n",
    "        \"c\": 0.7,\n",
    "        \"Iex\": 0.,\n",
    "    }\n",
    "    # th_up = 1    # 放电阈上值\n",
    "    # th_down = 1  # 放电阈下值\n",
    "    \n",
    "    v0 = np.random.rand(N)\n",
    "    w0 = np.random.rand(N)\n",
    "    vars_nodes = np.vstack((v0, w0))\n",
    "\n",
    "    N_vars = 2  # 变量的数量\n",
    "\n",
    "    # 模型放电变量\n",
    "    # flag = np.zeros(N, dtype=np.int32)           # 模型放电标志(>0, 放电)\n",
    "    # flaglaunch = np.zeros(N, dtype=np.int32)     # 模型开始放电标志(==1, 放电刚刚开始)\n",
    "    # firingTime = np.zeros(N)                     # 记录放电时间(上次放电)\n",
    "    # 初始化峰值时间记录相关变量\n",
    "    # max_spikes = 1000                                 # 假设每个神经元最多记录 1000 次放电\n",
    "    # spike_times = np.full((N, max_spikes), np.nan)\n",
    "    # spike_counts = np.zeros(N, dtype=np.int32)   # 放电次数计数\n",
    "\n",
    "    # 预分配内存空间\n",
    "    max_steps = 1000_00\n",
    "    mem = np.empty((N, max_steps), dtype=np.float64)  # 预分配内存\n",
    "    time = np.empty(max_steps, dtype=np.float64)  # 预分配时间空间\n",
    "\n",
    "    # 正弦函数参数\n",
    "    w = 1.    # 频率\n",
    "\n",
    "    for _ in range(500_00):\n",
    "        I = np.zeros((N_vars, N))\n",
    "        I[0, :] += A * np.cos(w* t)\n",
    "        params_list = list(params_nodes.values())\n",
    "        method(nodes, vars_nodes, t, dt, I, params_list)  #\n",
    "\n",
    "        # spikes_eval(vars_nodes[0], t, th_up, th_down, flag, flaglaunch, firingTime)\n",
    "\n",
    "        t += dt  # 时间前进\n",
    "\n",
    "    # 计算ISI和CV\n",
    "    for _ in range(max_steps):\n",
    "        I = np.zeros((N_vars, N))\n",
    "        I[0, :] += A * np.cos(w* t)\n",
    "        params_list = list(params_nodes.values())\n",
    "        method(nodes, vars_nodes, t, dt, I, params_list)  #\n",
    "\n",
    "        # spikes_eval(vars_nodes[0], t, th_up, th_down, flag, flaglaunch, firingTime)\n",
    "        # 记录峰值时间\n",
    "        # record_spike_times(flaglaunch, t, spike_times, spike_counts, max_spikes)\n",
    "\n",
    "        t += dt  # 时间前进\n",
    "        \n",
    "        mem[:, _] = vars_nodes[0]\n",
    "        time[_] = t\n",
    "\n",
    "\n",
    "    maxima = find_extrema(mem)[0][0]\n",
    "\n",
    "    # isi_array = calculate_isi(spike_times, spike_counts, N)[0]\n",
    "\n",
    "    # cv_array = calculate_cv(spike_times, spike_counts, N)[0]\n",
    "\n",
    "    # return isi_array, cv_array\n",
    "    # return mem, time\n",
    "    return maxima"
   ]
  },
  {
   "cell_type": "code",
   "execution_count": 13,
   "metadata": {},
   "outputs": [],
   "source": [
    "dt = 0.01\n",
    "method = Euler   # （Euler, RK4）\n",
    "N = 1\n",
    "# Iex = 0\n",
    "# A_list1 = np.linspace(0, 1.5, 1000)\n",
    "A_list1 = np.linspace(0.5, 0.72, 1000)"
   ]
  },
  {
   "cell_type": "code",
   "execution_count": 14,
   "metadata": {},
   "outputs": [],
   "source": [
    "# maxima = extrema_fhn(N, method, dt, 0.6)\n",
    "# maxima.shape"
   ]
  },
  {
   "cell_type": "code",
   "execution_count": 15,
   "metadata": {},
   "outputs": [],
   "source": [
    "@njit(parallel=True)\n",
    "def parallel_extrema(A_list1, N, method, dt):\n",
    "    n = len(A_list1)\n",
    "    N = 100\n",
    "    maxima_list = np.full((n, N), np.nan)\n",
    "    \n",
    "    for i in prange(n):\n",
    "        A = A_list1[i]\n",
    "        maxima = extrema_fhn(N, method, dt, A)\n",
    "        len_maxima = len(maxima)\n",
    "        if len_maxima > N: len_maxima = N\n",
    "        maxima_list[i, :len_maxima] = maxima[:len_maxima]\n",
    "        \n",
    "    return maxima_list"
   ]
  },
  {
   "cell_type": "code",
   "execution_count": 16,
   "metadata": {},
   "outputs": [],
   "source": [
    "maxima_list = parallel_extrema(A_list1, N, method, dt)"
   ]
  },
  {
   "cell_type": "code",
   "execution_count": 17,
   "metadata": {},
   "outputs": [],
   "source": [
    "A_list_x = np.repeat(A_list1, 100)"
   ]
  },
  {
   "cell_type": "code",
   "execution_count": 18,
   "metadata": {},
   "outputs": [
    {
     "data": {
      "text/plain": [
       "(1000, 100)"
      ]
     },
     "execution_count": 18,
     "metadata": {},
     "output_type": "execute_result"
    }
   ],
   "source": [
    "A_list_x.shape\n",
    "maxima_list.shape"
   ]
  },
  {
   "cell_type": "code",
   "execution_count": 19,
   "metadata": {},
   "outputs": [],
   "source": [
    "maxima_y =  maxima_list.flatten()"
   ]
  },
  {
   "cell_type": "code",
   "execution_count": 20,
   "metadata": {},
   "outputs": [
    {
     "data": {
      "image/png": "[encoded data removed]",
      "text/plain": [
       "<Figure size 640x480 with 1 Axes>"
      ]
     },
     "metadata": {},
     "output_type": "display_data"
    }
   ],
   "source": [
    "plt.scatter(A_list_x, maxima_y, s=1)\n",
    "# plt.xlim(0.64, 0.72)\n",
    "# plt.ylim(-0.50, -0.3)\n",
    "plt.show()"
   ]
  }
 ],
 "metadata": {
  "kernelspec": {
   "display_name": "Python 3",
   "language": "python",
   "name": "python3"
  },
  "language_info": {
   "codemirror_mode": {
    "name": "ipython",
    "version": 3
   },
   "file_extension": ".py",
   "mimetype": "text/x-python",
   "name": "python",
   "nbconvert_exporter": "python",
   "pygments_lexer": "ipython3",
   "version": "3.11.9"
  }
 },
 "nbformat": 4,
 "nbformat_minor": 2
}
